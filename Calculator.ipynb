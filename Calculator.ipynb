{
 "cells": [
  {
   "cell_type": "code",
   "execution_count": null,
   "id": "77831203-88a2-45c5-b9cc-7fd6ca081a22",
   "metadata": {},
   "outputs": [
    {
     "name": "stdin",
     "output_type": "stream",
     "text": [
      "Enter the operation to perform: +\n",
      "Enter the first value 60\n",
      "Enter the Second Value 40\n"
     ]
    },
    {
     "name": "stdout",
     "output_type": "stream",
     "text": [
      "100\n"
     ]
    },
    {
     "name": "stdin",
     "output_type": "stream",
     "text": [
      "Enter the operation to perform: -\n",
      "Enter the first value 40\n",
      "Enter the Second Value 20\n"
     ]
    },
    {
     "name": "stdout",
     "output_type": "stream",
     "text": [
      "20\n"
     ]
    },
    {
     "name": "stdin",
     "output_type": "stream",
     "text": [
      "Enter the operation to perform: *\n",
      "Enter the first value 20\n",
      "Enter the Second Value 2\n"
     ]
    },
    {
     "name": "stdout",
     "output_type": "stream",
     "text": [
      "40\n"
     ]
    },
    {
     "name": "stdin",
     "output_type": "stream",
     "text": [
      "Enter the operation to perform: 60\n"
     ]
    },
    {
     "name": "stdout",
     "output_type": "stream",
     "text": [
      "Please enter the valid input\n"
     ]
    },
    {
     "name": "stdin",
     "output_type": "stream",
     "text": [
      "Enter the operation to perform: /\n",
      "Enter the first value 50\n",
      "Enter the Second Value 5\n"
     ]
    },
    {
     "name": "stdout",
     "output_type": "stream",
     "text": [
      "10.0\n"
     ]
    },
    {
     "name": "stdin",
     "output_type": "stream",
     "text": [
      "Enter the operation to perform: @\n"
     ]
    },
    {
     "name": "stdout",
     "output_type": "stream",
     "text": [
      "Please enter the valid input\n"
     ]
    },
    {
     "name": "stdin",
     "output_type": "stream",
     "text": [
      "Enter the operation to perform: *\n",
      "Enter the first value 10\n",
      "Enter the Second Value 2\n"
     ]
    },
    {
     "name": "stdout",
     "output_type": "stream",
     "text": [
      "20\n"
     ]
    }
   ],
   "source": [
    "def addition(a,b):\n",
    "     add_result=a + b\n",
    "     return add_result\n",
    "\n",
    "def subraction(a,b):\n",
    "    sub_result=a - b\n",
    "    return sub_result\n",
    "\n",
    "def multiplication(a,b):\n",
    "    mul_result=a * b\n",
    "    return mul_result\n",
    "\n",
    "def division(a,b):\n",
    "    div_result=a / b\n",
    "    return div_result\n",
    "    \n",
    "while True:\n",
    "    oper_input=input(\"Enter the operation to perform:\")\n",
    "   \n",
    "\n",
    "    if oper_input==\"quit\":\n",
    "        break\n",
    "    elif oper_input in (\"+\",\"-\",\"*\",\"/\"):\n",
    "        val1=int(input(\"Enter the first value\"))\n",
    "        val2=int(input(\"Enter the Second Value\"))\n",
    "\n",
    "        if oper_input=='+':\n",
    "            res=addition(val1,val2)\n",
    "            print(int(res))\n",
    "        elif oper_input=='-':\n",
    "           res1=subraction(val1,val2)\n",
    "           print(res1)\n",
    "        elif oper_input=='*':\n",
    "           res2=multiplication(val1,val2)\n",
    "           print(res2)\n",
    "        elif oper_input=='/':\n",
    "           res3=division(val1,val2)\n",
    "           print(res3)\n",
    "    else:\n",
    "        print(\"Please enter the valid input\")\n"
   ]
  },
  {
   "cell_type": "code",
   "execution_count": null,
   "id": "6f6ae92f-4795-40e6-95ef-e1d996a19b73",
   "metadata": {},
   "outputs": [],
   "source": []
  },
  {
   "cell_type": "code",
   "execution_count": null,
   "id": "3c069ea1-8546-4329-aaf6-ae2ec1a18539",
   "metadata": {},
   "outputs": [],
   "source": []
  },
  {
   "cell_type": "code",
   "execution_count": null,
   "id": "6efdeb25-2b9d-42e0-977c-5ca53ecee197",
   "metadata": {},
   "outputs": [],
   "source": []
  }
 ],
 "metadata": {
  "kernelspec": {
   "display_name": "Python 3 (ipykernel)",
   "language": "python",
   "name": "python3"
  },
  "language_info": {
   "codemirror_mode": {
    "name": "ipython",
    "version": 3
   },
   "file_extension": ".py",
   "mimetype": "text/x-python",
   "name": "python",
   "nbconvert_exporter": "python",
   "pygments_lexer": "ipython3",
   "version": "3.10.11"
  }
 },
 "nbformat": 4,
 "nbformat_minor": 5
}
