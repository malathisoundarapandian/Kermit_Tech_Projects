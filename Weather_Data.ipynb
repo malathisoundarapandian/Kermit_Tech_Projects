{
 "cells": [
  {
   "cell_type": "code",
   "execution_count": 2,
   "id": "376f1cd8-15fe-4a2e-aebd-972158b31d08",
   "metadata": {},
   "outputs": [
    {
     "name": "stdin",
     "output_type": "stream",
     "text": [
      "Enter city name:  Norway\n"
     ]
    },
    {
     "name": "stdout",
     "output_type": "stream",
     "text": [
      "The temperature is 17.99 °C\n",
      "Weather: clear sky\n"
     ]
    }
   ],
   "source": [
    "import requests\n",
    "api_key = '9c643b5b01f76bbe65e391de1ee1a393'\n",
    "\n",
    "city = input('Enter city name: ')\n",
    "\n",
    "url = f'http://api.openweathermap.org/data/2.5/weather?q={city}&appid={api_key}'\n",
    "\n",
    "response = requests.get(url)\n",
    "\n",
    "if response.status_code == 200:\n",
    "    data = response.json()\n",
    "    temp = data['main']['temp']\n",
    "    desc = data['weather'][0]['description']\n",
    "    #print(f'Temperature: {temp} K')\n",
    "\n",
    "    # Conversion to Celsius\n",
    "    temperature_celsius = temp - 273.15\n",
    "\n",
    "    # Display the result\n",
    "    print(f\"The temperature is {temperature_celsius:.2f} °C\")\n",
    "    print(f'Weather: {desc}')\n",
    "else:\n",
    "    print('Error fetching weather data')"
   ]
  },
  {
   "cell_type": "code",
   "execution_count": null,
   "id": "dec387eb-d54b-4769-bd03-a248febdc6ca",
   "metadata": {},
   "outputs": [],
   "source": []
  }
 ],
 "metadata": {
  "kernelspec": {
   "display_name": "Python 3 (ipykernel)",
   "language": "python",
   "name": "python3"
  },
  "language_info": {
   "codemirror_mode": {
    "name": "ipython",
    "version": 3
   },
   "file_extension": ".py",
   "mimetype": "text/x-python",
   "name": "python",
   "nbconvert_exporter": "python",
   "pygments_lexer": "ipython3",
   "version": "3.10.11"
  }
 },
 "nbformat": 4,
 "nbformat_minor": 5
}
